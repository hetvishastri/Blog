{
 "cells": [
  {
   "cell_type": "markdown",
   "id": "5b47a0b4",
   "metadata": {},
   "source": [
    "## Understanding MC Dropout for Classification"
   ]
  },
  {
   "cell_type": "markdown",
   "id": "80a035b1",
   "metadata": {},
   "source": [
    "## Overview"
   ]
  },
  {
   "cell_type": "markdown",
   "id": "e20fe688",
   "metadata": {},
   "source": [
    "In this notebook we will understand MC dropout which is a technique used to get uncertainty in deep neural network models. We will explain this using MC dropout for classification on MNIST dataset. We will even introduce and explain the concept of calibration error and compare the uncertainty between various models using this metric.\n",
    "\n"
   ]
  },
  {
   "cell_type": "markdown",
   "id": "3422b07b",
   "metadata": {},
   "source": [
    "Standard deep learning tools for regression and classification do not capture model uncertainty. Standard deep learning tools for regression and classification do not capture model uncertainty.A model can be uncertain in its prediction even with high softmax output. A model can be uncertain in its prediction even with high softmax output."
   ]
  },
  {
   "cell_type": "markdown",
   "id": "7b1505ef",
   "metadata": {},
   "source": [
    "## What is MC dropout ?"
   ]
  },
  {
   "cell_type": "markdown",
   "id": "41b4d5da",
   "metadata": {},
   "source": [
    "A model can be uncertain in its prediction even with high softmax output. Dropout is a regularization technique which prevents overfitting. In Dropout different set of neurons are switched off and each neuron has probability of getting off while training. In Dropout different set of neurons are switched off and each neuron has probability of getting off while training. In Dropout different set of neurons are switched off and each neuron has probability of getting off while training. MC Dropout can be thought as an ensemble model. Everytime different set of neurons are off with probability P. Hence each time the model is different and final output is the mean of many different neural network."
   ]
  },
  {
   "cell_type": "markdown",
   "id": "339d2d14",
   "metadata": {},
   "source": [
    "## Import Libraries"
   ]
  },
  {
   "cell_type": "code",
   "execution_count": 1,
   "id": "ec4781aa",
   "metadata": {},
   "outputs": [],
   "source": [
    "import numpy as np\n",
    "import pandas as pd\n",
    "\n",
    "import tensorflow as tf\n",
    "import tensorflow.keras as keras\n",
    "from tensorflow.keras.models import Sequential\n",
    "from tensorflow.keras.layers import Dense,Dropout, Conv2D\n",
    "from tensorflow.keras.models import load_model\n",
    "\n",
    "%matplotlib inline\n",
    "import matplotlib as mpl\n",
    "import matplotlib.pyplot as plt\n"
   ]
  },
  {
   "cell_type": "markdown",
   "id": "b6f7a91f",
   "metadata": {},
   "source": [
    "## Import Dataset\n",
    " \n",
    "### Classification\n",
    "\n",
    "#### Training models"
   ]
  },
  {
   "cell_type": "code",
   "execution_count": 2,
   "id": "85ac3cc3",
   "metadata": {},
   "outputs": [],
   "source": [
    "(X_train, y_train), (X_test, y_test) = keras.datasets.mnist.load_data()"
   ]
  },
  {
   "cell_type": "markdown",
   "id": "fce8703a",
   "metadata": {},
   "source": [
    "### MonteCarlo Layer"
   ]
  },
  {
   "cell_type": "code",
   "execution_count": 3,
   "id": "ece18943",
   "metadata": {},
   "outputs": [],
   "source": [
    "class MonteCarloDropout(Dropout):\n",
    "    def call(self, inputs):\n",
    "        return super().call(inputs, training=True)"
   ]
  },
  {
   "cell_type": "markdown",
   "id": "4b3fe856",
   "metadata": {},
   "source": [
    "### Model 1 "
   ]
  },
  {
   "cell_type": "markdown",
   "id": "c0b53eaf",
   "metadata": {},
   "source": [
    "Describe model 1"
   ]
  },
  {
   "cell_type": "code",
   "execution_count": 4,
   "id": "dffe53ae",
   "metadata": {},
   "outputs": [],
   "source": [
    "def return_network1(index=1):\n",
    "    \n",
    "    layers=[MonteCarloDropout(rate=0.25),Dropout(rate=0.25)]\n",
    "    model = keras.models.Sequential()\n",
    "    model.add(keras.layers.Flatten(input_shape=(28, 28)))\n",
    "    model.add(layers[index])\n",
    "    model.add(keras.layers.Dense(300, activation=\"relu\"))\n",
    "    optimizer = keras.optimizers.Nadam(lr=0.001)\n",
    "    model.compile(loss=\"sparse_categorical_crossentropy\",optimizer=optimizer, metrics=[\"accuracy\"])\n",
    "    return model\n"
   ]
  },
  {
   "cell_type": "code",
   "execution_count": 5,
   "id": "9e509777",
   "metadata": {},
   "outputs": [
    {
     "name": "stderr",
     "output_type": "stream",
     "text": [
      "C:\\Users\\Dell\\anaconda3\\lib\\site-packages\\keras\\optimizer_v2\\nadam.py:73: UserWarning: The `lr` argument is deprecated, use `learning_rate` instead.\n",
      "  super(Nadam, self).__init__(name, **kwargs)\n"
     ]
    },
    {
     "name": "stdout",
     "output_type": "stream",
     "text": [
      "Epoch 1/50\n",
      "1875/1875 [==============================] - 8s 4ms/step - loss: 7.2560 - accuracy: 0.1291\n",
      "Epoch 2/50\n",
      "1875/1875 [==============================] - 7s 4ms/step - loss: 5.6437 - accuracy: 0.1445\n",
      "Epoch 3/50\n",
      "1875/1875 [==============================] - 7s 4ms/step - loss: 5.5990 - accuracy: 0.1352\n",
      "Epoch 4/50\n",
      "1875/1875 [==============================] - 7s 4ms/step - loss: 5.5982 - accuracy: 0.1315\n",
      "Epoch 5/50\n",
      "1875/1875 [==============================] - 7s 4ms/step - loss: 5.4880 - accuracy: 0.1503\n",
      "Epoch 6/50\n",
      "1875/1875 [==============================] - 7s 4ms/step - loss: 5.5544 - accuracy: 0.1329\n",
      "Epoch 7/50\n",
      "1875/1875 [==============================] - 7s 4ms/step - loss: 5.5395 - accuracy: 0.1345\n",
      "Epoch 8/50\n",
      "1875/1875 [==============================] - 7s 4ms/step - loss: 5.4437 - accuracy: 0.1522\n",
      "Epoch 9/50\n",
      "1875/1875 [==============================] - 7s 4ms/step - loss: 5.5092 - accuracy: 0.1380\n",
      "Epoch 10/50\n",
      "1875/1875 [==============================] - 7s 4ms/step - loss: 5.6473 - accuracy: 0.1130\n",
      "Epoch 11/50\n",
      "1875/1875 [==============================] - 7s 4ms/step - loss: 5.4699 - accuracy: 0.1451\n",
      "Epoch 12/50\n",
      "1875/1875 [==============================] - 8s 4ms/step - loss: 5.4630 - accuracy: 0.1463\n",
      "Epoch 13/50\n",
      "1875/1875 [==============================] - 7s 4ms/step - loss: 5.4619 - accuracy: 0.1471\n",
      "Epoch 14/50\n",
      "1875/1875 [==============================] - 7s 4ms/step - loss: 5.4672 - accuracy: 0.1462\n",
      "Epoch 15/50\n",
      "1875/1875 [==============================] - 7s 4ms/step - loss: 5.4697 - accuracy: 0.1449\n",
      "Epoch 16/50\n",
      "1875/1875 [==============================] - 7s 4ms/step - loss: 5.5408 - accuracy: 0.1326\n",
      "Epoch 17/50\n",
      "1875/1875 [==============================] - 7s 4ms/step - loss: 5.5991 - accuracy: 0.1196\n",
      "Epoch 18/50\n",
      "1875/1875 [==============================] - 7s 4ms/step - loss: 5.5280 - accuracy: 0.1330\n",
      "Epoch 19/50\n",
      "1875/1875 [==============================] - 7s 4ms/step - loss: 5.5330 - accuracy: 0.1334\n",
      "Epoch 20/50\n",
      "1875/1875 [==============================] - 7s 4ms/step - loss: 5.6431 - accuracy: 0.1117\n",
      "Epoch 21/50\n",
      "1875/1875 [==============================] - 7s 4ms/step - loss: 5.6405 - accuracy: 0.1120\n",
      "Epoch 22/50\n",
      "1875/1875 [==============================] - 7s 4ms/step - loss: 5.6882 - accuracy: 0.1035\n",
      "Epoch 23/50\n",
      "1875/1875 [==============================] - 7s 4ms/step - loss: 5.6904 - accuracy: 0.1033\n",
      "Epoch 24/50\n",
      "1875/1875 [==============================] - 7s 4ms/step - loss: 5.6526 - accuracy: 0.1093\n",
      "Epoch 25/50\n",
      "1875/1875 [==============================] - 7s 4ms/step - loss: 5.5305 - accuracy: 0.1328\n",
      "Epoch 26/50\n",
      "1875/1875 [==============================] - 7s 4ms/step - loss: 5.3966 - accuracy: 0.1585\n",
      "Epoch 27/50\n",
      "1875/1875 [==============================] - 7s 4ms/step - loss: 5.5010 - accuracy: 0.1380\n",
      "Epoch 28/50\n",
      "1875/1875 [==============================] - 7s 4ms/step - loss: 5.4836 - accuracy: 0.1430\n",
      "Epoch 29/50\n",
      "1875/1875 [==============================] - 7s 4ms/step - loss: 5.6671 - accuracy: 0.1073\n",
      "Epoch 30/50\n",
      "1875/1875 [==============================] - 7s 4ms/step - loss: 5.6737 - accuracy: 0.1059\n",
      "Epoch 31/50\n",
      "1875/1875 [==============================] - 7s 4ms/step - loss: 5.7389 - accuracy: 0.1114\n",
      "Epoch 32/50\n",
      "1875/1875 [==============================] - 7s 4ms/step - loss: 5.6606 - accuracy: 0.1093\n",
      "Epoch 33/50\n",
      "1875/1875 [==============================] - 7s 4ms/step - loss: 5.6631 - accuracy: 0.1069\n",
      "Epoch 34/50\n",
      "1875/1875 [==============================] - 7s 4ms/step - loss: 5.6731 - accuracy: 0.1055\n",
      "Epoch 35/50\n",
      "1875/1875 [==============================] - 7s 4ms/step - loss: 5.6893 - accuracy: 0.1024\n",
      "Epoch 36/50\n",
      "1875/1875 [==============================] - 7s 4ms/step - loss: 5.6090 - accuracy: 0.1170\n",
      "Epoch 37/50\n",
      "1875/1875 [==============================] - 7s 4ms/step - loss: 5.5166 - accuracy: 0.1348\n",
      "Epoch 38/50\n",
      "1875/1875 [==============================] - 7s 4ms/step - loss: 5.5734 - accuracy: 0.1242\n",
      "Epoch 39/50\n",
      "1875/1875 [==============================] - 7s 4ms/step - loss: 5.6738 - accuracy: 0.1052\n",
      "Epoch 40/50\n",
      "1875/1875 [==============================] - 7s 4ms/step - loss: 5.6581 - accuracy: 0.1075\n",
      "Epoch 41/50\n",
      "1875/1875 [==============================] - 7s 4ms/step - loss: 5.4971 - accuracy: 0.1472\n",
      "Epoch 42/50\n",
      "1875/1875 [==============================] - 7s 4ms/step - loss: 5.5050 - accuracy: 0.1408\n",
      "Epoch 43/50\n",
      "1875/1875 [==============================] - 7s 4ms/step - loss: 5.5165 - accuracy: 0.1338\n",
      "Epoch 44/50\n",
      "1875/1875 [==============================] - 7s 4ms/step - loss: 5.4569 - accuracy: 0.1461\n",
      "Epoch 45/50\n",
      "1875/1875 [==============================] - 7s 4ms/step - loss: 5.3364 - accuracy: 0.1724\n",
      "Epoch 46/50\n",
      "1875/1875 [==============================] - 7s 4ms/step - loss: 5.3718 - accuracy: 0.1669\n",
      "Epoch 47/50\n",
      "1875/1875 [==============================] - 7s 4ms/step - loss: 5.4278 - accuracy: 0.1566\n",
      "Epoch 48/50\n",
      "1875/1875 [==============================] - 7s 4ms/step - loss: 5.5039 - accuracy: 0.1380\n",
      "Epoch 49/50\n",
      "1875/1875 [==============================] - 7s 4ms/step - loss: 5.4997 - accuracy: 0.1395\n",
      "Epoch 50/50\n",
      "1875/1875 [==============================] - 7s 4ms/step - loss: 5.5874 - accuracy: 0.1204\n"
     ]
    }
   ],
   "source": [
    "model_mc1=return_network1(index=0)\n",
    "model_mc1.fit(X_train, y_train, epochs=50)\n",
    "model_mc1.save(\"models/model_mc1.h5\")"
   ]
  },
  {
   "cell_type": "markdown",
   "id": "e1444978",
   "metadata": {},
   "source": [
    "### Testing"
   ]
  },
  {
   "cell_type": "code",
   "execution_count": 6,
   "id": "8eceb95a",
   "metadata": {},
   "outputs": [],
   "source": [
    "def test(num_predictions, model):\n",
    "    T=100 #(NUMBER OF PREDICTIONS)\n",
    "    predictions=[model.predict(X_test) for _ in range(T)]\n",
    "    probability=np.stack(predictions).mean(axis=0)\n",
    "    return predictions,probability\n"
   ]
  },
  {
   "cell_type": "code",
   "execution_count": 7,
   "id": "e6bafbc2",
   "metadata": {},
   "outputs": [
    {
     "name": "stdout",
     "output_type": "stream",
     "text": [
      "0.176\n"
     ]
    }
   ],
   "source": [
    "num_predictions=100\n",
    "predictions1, probability1 = test(num_predictions, model_mc1)\n",
    "y_pred=np.argmax(probability1, axis=1)\n",
    "acc = np.mean(y_pred == y_test)\n",
    "print(acc)"
   ]
  },
  {
   "cell_type": "markdown",
   "id": "117e5e0d",
   "metadata": {},
   "source": [
    "#### Calibration"
   ]
  },
  {
   "cell_type": "code",
   "execution_count": 8,
   "id": "cef908ea",
   "metadata": {},
   "outputs": [],
   "source": [
    "def dict_make(dict_name,key,value):\n",
    "    if(key in dict_name):\n",
    "        dict_name[key].append(value)\n",
    "    else:\n",
    "        dict_name[key]=[]\n",
    "        \n",
    "def bin_allocate(probability):\n",
    "    max_prob=np.max(probability, axis=1)\n",
    "    indexes={}\n",
    "    for i in range(len(max_prob)):    \n",
    "        if(max_prob[i]<0.1):\n",
    "            dict_make(indexes,0.1,i)\n",
    "        elif(max_prob[i]<0.2):\n",
    "            dict_make(indexes,0.2,i)\n",
    "        elif(max_prob[i]<0.3):\n",
    "            dict_make(indexes,0.3,i)\n",
    "        elif(max_prob[i]<0.4):\n",
    "            dict_make(indexes,0.4,i)\n",
    "        elif(max_prob[i]<0.5):\n",
    "            dict_make(indexes,0.5,i)\n",
    "        elif(max_prob[i]<0.6):\n",
    "            dict_make(indexes,0.6,i)\n",
    "        elif(max_prob[i]<0.7):\n",
    "            dict_make(indexes,0.7,i)\n",
    "        elif(max_prob[i]<0.8):\n",
    "            dict_make(indexes,0.8,i)\n",
    "        elif(max_prob[i]<0.9):\n",
    "            dict_make(indexes,0.9,i)\n",
    "        else:\n",
    "            dict_make(indexes,1,i)\n",
    "            \n",
    "    return indexes\n",
    "\n",
    "def plot_samples(indexes):\n",
    "    keys = indexes.keys()\n",
    "    values = [len(indexes[key])/len(X_test) for key in indexes]\n",
    "    plt.bar(keys, values,width=-0.1,align='edge',edgecolor='black')\n",
    "    plt.xlabel('Confidence range')\n",
    "    plt.ylabel('Ratio of no of samples')\n",
    "        "
   ]
  },
  {
   "cell_type": "code",
   "execution_count": 9,
   "id": "2f417380",
   "metadata": {},
   "outputs": [
    {
     "data": {
      "image/png": "[encoded data removed]",
      "text/plain": [
       "<Figure size 432x288 with 1 Axes>"
      ]
     },
     "metadata": {
      "needs_background": "light"
     },
     "output_type": "display_data"
    }
   ],
   "source": [
    "indexes1=bin_allocate(probability1)\n",
    "plot_samples(indexes1)"
   ]
  },
  {
   "cell_type": "code",
   "execution_count": 10,
   "id": "0067366f",
   "metadata": {},
   "outputs": [],
   "source": [
    "def calculate_avg_acc(probability,indexes):\n",
    "    accuracy={}\n",
    "    max_prob=np.max(probability,axis=1)\n",
    "    prob={}\n",
    "    for key in indexes:\n",
    "        accuracy[key]=0\n",
    "        prob[key]=0\n",
    "        for i in indexes[key]:\n",
    "            if(y_pred[i]==y_test[i]):\n",
    "                accuracy[key]+=1\n",
    "            prob[key]+=max_prob[i]\n",
    "        prob[key]=prob[key]/len(indexes[key])\n",
    "        accuracy[key]=accuracy[key]/len(indexes[key])\n",
    "    return prob,accuracy\n",
    "\n",
    "def plot_calibration(prob,accuracy):        \n",
    "    plt.bar(prob.keys(),prob.values(),width=-0.1,align='edge',alpha=0.5,edgecolor='black')\n",
    "    plt.bar(accuracy.keys(),accuracy.values(),width=-0.1,align='edge',alpha=0.1,edgecolor='black')\n",
    "    plt.legend(['Confidence','Accuracy'],loc=2)\n",
    "    plt.xlabel('Confidence range')\n",
    "    plt.ylabel('Average Value')\n",
    "\n",
    "def expected_calibration_error(accuracy,prob,indexes):\n",
    "    ece=0\n",
    "    for key in accuracy.keys():\n",
    "        ece=+len(indexes[key])*(np.abs(accuracy[key]-prob[key]))\n",
    "    return ece\n",
    "\n",
    "def maximum_calibration_error(accuracy,prob):\n",
    "    mce=0\n",
    "    for key in accuracy.keys():\n",
    "        mce=np.maximum(np.abs(accuracy1[key]-prob1[key]),mce)\n",
    "    return mce"
   ]
  },
  {
   "cell_type": "code",
   "execution_count": 11,
   "id": "1b29609e",
   "metadata": {},
   "outputs": [
    {
     "data": {
      "image/png": "[encoded data removed]",
      "text/plain": [
       "<Figure size 432x288 with 1 Axes>"
      ]
     },
     "metadata": {
      "needs_background": "light"
     },
     "output_type": "display_data"
    }
   ],
   "source": [
    "prob1,accuracy1=calculate_avg_acc(probability1,indexes1)\n",
    "plot_calibration(prob1,accuracy1)"
   ]
  },
  {
   "cell_type": "code",
   "execution_count": 12,
   "id": "76794a1e",
   "metadata": {},
   "outputs": [
    {
     "name": "stdout",
     "output_type": "stream",
     "text": [
      "0.00015200642347335813\n",
      "46.20615993170427\n"
     ]
    }
   ],
   "source": [
    "ece=expected_calibration_error(accuracy1,prob1,indexes1)/len(y_test)\n",
    "mce=maximum_calibration_error(accuracy1,prob1)\n",
    "print(ece)\n",
    "print(mce)\n"
   ]
  },
  {
   "cell_type": "markdown",
   "id": "c4868470",
   "metadata": {},
   "source": [
    "### Model 2"
   ]
  },
  {
   "cell_type": "code",
   "execution_count": 13,
   "id": "211641f4",
   "metadata": {},
   "outputs": [],
   "source": [
    "def return_network2(index=1):\n",
    "    \n",
    "    layers=[MonteCarloDropout(rate=0.25),Dropout(rate=0.25)]\n",
    "    model = keras.models.Sequential()\n",
    "    model.add(keras.layers.Flatten(input_shape=(28, 28)))\n",
    "    model.add(layers[index])\n",
    "    model.add(keras.layers.Dense(300, activation=\"relu\"))\n",
    "    model.add(layers[index])\n",
    "    model.add(keras.layers.Dense(300, activation=\"relu\"))\n",
    "    model.add(layers[index])\n",
    "    model.add(keras.layers.Dense(10, activation=\"softmax\"))\n",
    "    optimizer = keras.optimizers.Nadam(lr=0.001)\n",
    "    model.compile(loss=\"sparse_categorical_crossentropy\",optimizer=optimizer, metrics=[\"accuracy\"])\n",
    "    \n",
    "    return model"
   ]
  },
  {
   "cell_type": "code",
   "execution_count": 14,
   "id": "8a86f7f3",
   "metadata": {},
   "outputs": [
    {
     "name": "stdout",
     "output_type": "stream",
     "text": [
      "Epoch 1/50\n",
      "1875/1875 [==============================] - 10s 5ms/step - loss: 4.1559 - accuracy: 0.7649\n",
      "Epoch 2/50\n",
      "1875/1875 [==============================] - 9s 5ms/step - loss: 0.5630 - accuracy: 0.8576\n",
      "Epoch 3/50\n",
      "1875/1875 [==============================] - 9s 5ms/step - loss: 0.3915 - accuracy: 0.8932\n",
      "Epoch 4/50\n",
      "1875/1875 [==============================] - 9s 5ms/step - loss: 0.3624 - accuracy: 0.9021\n",
      "Epoch 5/50\n",
      "1875/1875 [==============================] - 9s 5ms/step - loss: 0.3380 - accuracy: 0.9116\n",
      "Epoch 6/50\n",
      "1875/1875 [==============================] - 9s 5ms/step - loss: 0.3306 - accuracy: 0.9137\n",
      "Epoch 7/50\n",
      "1875/1875 [==============================] - 11s 6ms/step - loss: 0.3119 - accuracy: 0.9201\n",
      "Epoch 8/50\n",
      "1875/1875 [==============================] - 10s 5ms/step - loss: 0.3120 - accuracy: 0.9209\n",
      "Epoch 9/50\n",
      "1875/1875 [==============================] - 9s 5ms/step - loss: 0.2960 - accuracy: 0.9251\n",
      "Epoch 10/50\n",
      "1875/1875 [==============================] - 9s 5ms/step - loss: 0.2993 - accuracy: 0.9228\n",
      "Epoch 11/50\n",
      "1875/1875 [==============================] - 9s 5ms/step - loss: 0.2900 - accuracy: 0.9268\n",
      "Epoch 12/50\n",
      "1875/1875 [==============================] - 9s 5ms/step - loss: 0.2809 - accuracy: 0.9296\n",
      "Epoch 13/50\n",
      "1875/1875 [==============================] - 9s 5ms/step - loss: 0.2838 - accuracy: 0.9297\n",
      "Epoch 14/50\n",
      "1875/1875 [==============================] - 9s 5ms/step - loss: 0.2808 - accuracy: 0.9302\n",
      "Epoch 15/50\n",
      "1875/1875 [==============================] - 9s 5ms/step - loss: 0.2718 - accuracy: 0.9331\n",
      "Epoch 16/50\n",
      "1875/1875 [==============================] - 9s 5ms/step - loss: 0.2714 - accuracy: 0.9317\n",
      "Epoch 17/50\n",
      "1875/1875 [==============================] - 9s 5ms/step - loss: 0.2722 - accuracy: 0.9323\n",
      "Epoch 18/50\n",
      "1875/1875 [==============================] - 9s 5ms/step - loss: 0.2614 - accuracy: 0.9353\n",
      "Epoch 19/50\n",
      "1875/1875 [==============================] - 9s 5ms/step - loss: 0.2741 - accuracy: 0.9328\n",
      "Epoch 20/50\n",
      "1875/1875 [==============================] - 9s 5ms/step - loss: 0.2660 - accuracy: 0.9343\n",
      "Epoch 21/50\n",
      "1875/1875 [==============================] - 10s 5ms/step - loss: 0.2651 - accuracy: 0.9359\n",
      "Epoch 22/50\n",
      "1875/1875 [==============================] - 9s 5ms/step - loss: 0.2653 - accuracy: 0.9340\n",
      "Epoch 23/50\n",
      "1875/1875 [==============================] - 9s 5ms/step - loss: 0.2596 - accuracy: 0.9362\n",
      "Epoch 24/50\n",
      "1875/1875 [==============================] - 9s 5ms/step - loss: 0.2585 - accuracy: 0.9345\n",
      "Epoch 25/50\n",
      "1875/1875 [==============================] - 9s 5ms/step - loss: 0.2632 - accuracy: 0.9349\n",
      "Epoch 26/50\n",
      "1875/1875 [==============================] - 9s 5ms/step - loss: 0.2568 - accuracy: 0.9366\n",
      "Epoch 27/50\n",
      "1875/1875 [==============================] - 9s 5ms/step - loss: 0.2661 - accuracy: 0.9349\n",
      "Epoch 28/50\n",
      "1875/1875 [==============================] - 9s 5ms/step - loss: 0.2601 - accuracy: 0.9372\n",
      "Epoch 29/50\n",
      "1875/1875 [==============================] - 9s 5ms/step - loss: 0.2666 - accuracy: 0.9374\n",
      "Epoch 30/50\n",
      "1875/1875 [==============================] - 9s 5ms/step - loss: 0.2642 - accuracy: 0.9374\n",
      "Epoch 31/50\n",
      "1875/1875 [==============================] - 9s 5ms/step - loss: 0.2591 - accuracy: 0.9376\n",
      "Epoch 32/50\n",
      "1875/1875 [==============================] - 9s 5ms/step - loss: 0.2556 - accuracy: 0.9392\n",
      "Epoch 33/50\n",
      "1875/1875 [==============================] - 9s 5ms/step - loss: 0.2623 - accuracy: 0.9374\n",
      "Epoch 34/50\n",
      "1875/1875 [==============================] - 9s 5ms/step - loss: 0.2580 - accuracy: 0.9382\n",
      "Epoch 35/50\n",
      "1875/1875 [==============================] - 9s 5ms/step - loss: 0.2619 - accuracy: 0.9372\n",
      "Epoch 36/50\n",
      "1875/1875 [==============================] - 9s 5ms/step - loss: 0.2568 - accuracy: 0.9391\n",
      "Epoch 37/50\n",
      "1875/1875 [==============================] - 9s 5ms/step - loss: 0.2638 - accuracy: 0.9367\n",
      "Epoch 38/50\n",
      "1875/1875 [==============================] - 9s 5ms/step - loss: 0.2508 - accuracy: 0.9384\n",
      "Epoch 39/50\n",
      "1875/1875 [==============================] - 9s 5ms/step - loss: 0.2583 - accuracy: 0.9396\n",
      "Epoch 40/50\n",
      "1875/1875 [==============================] - 9s 5ms/step - loss: 0.2437 - accuracy: 0.9402\n",
      "Epoch 41/50\n",
      "1875/1875 [==============================] - 9s 5ms/step - loss: 0.2624 - accuracy: 0.9372\n",
      "Epoch 42/50\n",
      "1875/1875 [==============================] - 9s 5ms/step - loss: 0.2723 - accuracy: 0.9366\n",
      "Epoch 43/50\n",
      "1875/1875 [==============================] - 9s 5ms/step - loss: 0.2615 - accuracy: 0.9387\n",
      "Epoch 44/50\n",
      "1875/1875 [==============================] - 9s 5ms/step - loss: 0.2510 - accuracy: 0.9397\n",
      "Epoch 45/50\n",
      "1875/1875 [==============================] - 9s 5ms/step - loss: 0.2531 - accuracy: 0.9384\n",
      "Epoch 46/50\n",
      "1875/1875 [==============================] - 9s 5ms/step - loss: 0.2616 - accuracy: 0.9385\n",
      "Epoch 47/50\n",
      "1875/1875 [==============================] - 9s 5ms/step - loss: 0.2528 - accuracy: 0.9401\n",
      "Epoch 48/50\n",
      "1875/1875 [==============================] - 9s 5ms/step - loss: 0.2632 - accuracy: 0.9395\n",
      "Epoch 49/50\n",
      "1875/1875 [==============================] - 9s 5ms/step - loss: 0.2456 - accuracy: 0.9408\n",
      "Epoch 50/50\n",
      "1875/1875 [==============================] - 9s 5ms/step - loss: 0.2633 - accuracy: 0.9383\n"
     ]
    }
   ],
   "source": [
    "model_mc2=return_network2(index=0)\n",
    "model_mc2.fit(X_train, y_train, epochs=50)\n",
    "model_mc2.save(\"models/model_mc2.h5\")"
   ]
  },
  {
   "cell_type": "code",
   "execution_count": 15,
   "id": "ac0901c8",
   "metadata": {},
   "outputs": [
    {
     "name": "stdout",
     "output_type": "stream",
     "text": [
      "0.9712\n"
     ]
    }
   ],
   "source": [
    "num_predictions=100\n",
    "predictions2, probability2 = test(num_predictions, model_mc2)\n",
    "y_pred=np.argmax(probability2, axis=1)\n",
    "acc = np.mean(y_pred == y_test)\n",
    "print(acc)"
   ]
  },
  {
   "cell_type": "code",
   "execution_count": 16,
   "id": "28523f1e",
   "metadata": {},
   "outputs": [
    {
     "data": {
      "image/png": "[encoded data removed]",
      "text/plain": [
       "<Figure size 432x288 with 1 Axes>"
      ]
     },
     "metadata": {
      "needs_background": "light"
     },
     "output_type": "display_data"
    }
   ],
   "source": [
    "indexes2=bin_allocate(probability2)\n",
    "plot_samples(indexes2)"
   ]
  },
  {
   "cell_type": "code",
   "execution_count": 17,
   "id": "43c4263f",
   "metadata": {},
   "outputs": [
    {
     "data": {
      "image/png": "[encoded data removed]",
      "text/plain": [
       "<Figure size 432x288 with 1 Axes>"
      ]
     },
     "metadata": {
      "needs_background": "light"
     },
     "output_type": "display_data"
    }
   ],
   "source": [
    "prob2,accuracy2=calculate_avg_acc(probability2,indexes2)\n",
    "plot_calibration(prob2,accuracy2)"
   ]
  },
  {
   "cell_type": "code",
   "execution_count": 18,
   "id": "a95e28ed",
   "metadata": {},
   "outputs": [
    {
     "name": "stdout",
     "output_type": "stream",
     "text": [
      "3.017636537551884e-05\n",
      "46.20615993170427\n"
     ]
    }
   ],
   "source": [
    "ece=expected_calibration_error(accuracy2,prob2,indexes2)/len(y_test)\n",
    "mce=maximum_calibration_error(accuracy2,prob2)\n",
    "print(ece)\n",
    "print(mce)"
   ]
  },
  {
   "cell_type": "markdown",
   "id": "a45eed22",
   "metadata": {},
   "source": [
    "### Model 3"
   ]
  },
  {
   "cell_type": "code",
   "execution_count": 19,
   "id": "166048d3",
   "metadata": {},
   "outputs": [],
   "source": [
    "def return_network3(index=1):\n",
    "    \n",
    "    layers=[MonteCarloDropout(rate=0.25),Dropout(rate=0.25)]\n",
    "    model = keras.models.Sequential()\n",
    "    model.add(keras.layers.Conv2D(32, (3, 3), activation='relu', kernel_initializer='he_uniform', input_shape=(28, 28,1)))\n",
    "    model.add(layers[index])\n",
    "    model.add(keras.layers.Flatten())\n",
    "    model.add(keras.layers.Dense(300, activation=\"relu\"))\n",
    "    model.add(layers[index])\n",
    "    model.add(keras.layers.Dense(10, activation=\"softmax\"))\n",
    "    optimizer = keras.optimizers.Nadam(lr=0.001)\n",
    "    model.compile(loss=\"sparse_categorical_crossentropy\",optimizer=optimizer, metrics=[\"accuracy\"])\n",
    "    \n",
    "    return model\n"
   ]
  },
  {
   "cell_type": "code",
   "execution_count": 20,
   "id": "ec07a83c",
   "metadata": {},
   "outputs": [
    {
     "name": "stdout",
     "output_type": "stream",
     "text": [
      "Epoch 1/5\n",
      "1875/1875 [==============================] - 271s 144ms/step - loss: 3.5979 - accuracy: 0.5974\n",
      "Epoch 2/5\n",
      "1875/1875 [==============================] - 270s 144ms/step - loss: 1.0296 - accuracy: 0.7081\n",
      "Epoch 3/5\n",
      "1875/1875 [==============================] - 271s 144ms/step - loss: 0.6659 - accuracy: 0.8234\n",
      "Epoch 4/5\n",
      "1875/1875 [==============================] - 273s 146ms/step - loss: 0.4615 - accuracy: 0.8821\n",
      "Epoch 5/5\n",
      "1875/1875 [==============================] - 272s 145ms/step - loss: 0.3551 - accuracy: 0.9092\n"
     ]
    }
   ],
   "source": [
    "\n",
    "model_mc3=return_network3(index=0)\n",
    "model_mc3.fit(X_train.reshape((X_train.shape[0], 28, 28, 1)), y_train, epochs=5)\n",
    "model_mc3.save(\"models/model_mc3.h5\")"
   ]
  },
  {
   "cell_type": "code",
   "execution_count": 21,
   "id": "7803e9f3",
   "metadata": {},
   "outputs": [
    {
     "name": "stdout",
     "output_type": "stream",
     "text": [
      "0.9593\n"
     ]
    }
   ],
   "source": [
    "num_predictions=100\n",
    "predictions3, probability3 = test(num_predictions, model_mc3)\n",
    "y_pred=np.argmax(probability3, axis=1)\n",
    "acc = np.mean(y_pred == y_test)\n",
    "print(acc)"
   ]
  },
  {
   "cell_type": "code",
   "execution_count": 22,
   "id": "2199ca71",
   "metadata": {},
   "outputs": [
    {
     "data": {
      "image/png": "[encoded data removed]",
      "text/plain": [
       "<Figure size 432x288 with 1 Axes>"
      ]
     },
     "metadata": {
      "needs_background": "light"
     },
     "output_type": "display_data"
    }
   ],
   "source": [
    "indexes3=bin_allocate(probability3)\n",
    "plot_samples(indexes3)"
   ]
  },
  {
   "cell_type": "code",
   "execution_count": 23,
   "id": "6257a17e",
   "metadata": {},
   "outputs": [
    {
     "data": {
      "image/png": "[encoded data removed]",
      "text/plain": [
       "<Figure size 432x288 with 1 Axes>"
      ]
     },
     "metadata": {
      "needs_background": "light"
     },
     "output_type": "display_data"
    }
   ],
   "source": [
    "prob3,accuracy3=calculate_avg_acc(probability3,indexes3)\n",
    "plot_calibration(prob3,accuracy3)"
   ]
  },
  {
   "cell_type": "code",
   "execution_count": 24,
   "id": "b464b7e6",
   "metadata": {},
   "outputs": [
    {
     "name": "stdout",
     "output_type": "stream",
     "text": [
      "3.947368860244751e-05\n",
      "46.20615993170427\n"
     ]
    }
   ],
   "source": [
    "ece=expected_calibration_error(accuracy3,prob3,indexes3)/len(y_test)\n",
    "mce=maximum_calibration_error(accuracy3,prob3)\n",
    "print(ece)\n",
    "print(mce)"
   ]
  }
 ],
 "metadata": {
  "kernelspec": {
   "display_name": "Python 3",
   "language": "python",
   "name": "python3"
  },
  "language_info": {
   "codemirror_mode": {
    "name": "ipython",
    "version": 3
   },
   "file_extension": ".py",
   "mimetype": "text/x-python",
   "name": "python",
   "nbconvert_exporter": "python",
   "pygments_lexer": "ipython3",
   "version": "3.8.8"
  }
 },
 "nbformat": 4,
 "nbformat_minor": 5
}
